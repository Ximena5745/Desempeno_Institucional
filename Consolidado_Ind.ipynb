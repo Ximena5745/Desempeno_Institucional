{
  "nbformat": 4,
  "nbformat_minor": 0,
  "metadata": {
    "colab": {
      "provenance": [],
      "authorship_tag": "ABX9TyMhrz7k3ntR9aWGg1bi0lOj",
      "include_colab_link": true
    },
    "kernelspec": {
      "name": "python3",
      "display_name": "Python 3"
    },
    "language_info": {
      "name": "python"
    }
  },
  "cells": [
    {
      "cell_type": "markdown",
      "metadata": {
        "id": "view-in-github",
        "colab_type": "text"
      },
      "source": [
        "<a href=\"https://colab.research.google.com/github/Ximena5745/Desempeno_Institucional/blob/main/Consolidado_Ind.ipynb\" target=\"_parent\"><img src=\"https://colab.research.google.com/assets/colab-badge.svg\" alt=\"Open In Colab\"/></a>"
      ]
    },
    {
      "cell_type": "code",
      "execution_count": 1,
      "metadata": {
        "id": "6dPMghJ8Ign1"
      },
      "outputs": [],
      "source": [
        "import os\n",
        "import glob\n",
        "import pandas as pd"
      ]
    },
    {
      "cell_type": "code",
      "source": [
        "!git clone https://github.com/Ximena5745/Desempeno_Institucional.git"
      ],
      "metadata": {
        "id": "yLXHriEzH2z8",
        "outputId": "325bf6ca-19ed-4aa5-91f6-4915d8ab353b",
        "colab": {
          "base_uri": "https://localhost:8080/"
        }
      },
      "execution_count": 2,
      "outputs": [
        {
          "output_type": "stream",
          "name": "stdout",
          "text": [
            "Cloning into 'Desempeno_Institucional'...\n",
            "remote: Enumerating objects: 20, done.\u001b[K\n",
            "remote: Counting objects: 100% (20/20), done.\u001b[K\n",
            "remote: Compressing objects: 100% (17/17), done.\u001b[K\n",
            "remote: Total 20 (delta 3), reused 0 (delta 0), pack-reused 0 (from 0)\u001b[K\n",
            "Receiving objects: 100% (20/20), 1.19 MiB | 19.90 MiB/s, done.\n",
            "Resolving deltas: 100% (3/3), done.\n"
          ]
        }
      ]
    },
    {
      "cell_type": "code",
      "source": [
        "os.chdir(\"/content/Desempeno_Institucional/Data\")"
      ],
      "metadata": {
        "id": "4-rTCGb2Kilp"
      },
      "execution_count": 3,
      "outputs": []
    },
    {
      "cell_type": "code",
      "source": [
        "# 3️⃣ Buscar y leer todos los Excel\n",
        "archivos_excel = glob.glob(\"*.xlsx\") + glob.glob(\"*.xls\")\n",
        "df_todos = pd.concat(\n",
        "    [pd.read_excel(archivo).assign(Archivo=archivo) for archivo in archivos_excel],\n",
        "    ignore_index=True\n",
        ")"
      ],
      "metadata": {
        "id": "CCmPCuhrLCjN"
      },
      "execution_count": 4,
      "outputs": []
    },
    {
      "cell_type": "code",
      "source": [
        "# 4️⃣ Limpieza de datos\n",
        "# Eliminar columnas específicas si existen\n",
        "columnas_a_eliminar = [\"dependencia\", \"incidencia\", \"objectivos_relacionados\"]\n",
        "df_todos = df_todos.drop(columns=[col for col in columnas_a_eliminar if col in df_todos.columns], errors=\"ignore\")\n",
        "\n",
        "# Eliminar filas donde 'fecha' esté vacía o nula\n",
        "if \"fecha\" in df_todos.columns:\n",
        "    df_todos = df_todos[df_todos[\"fecha\"].notna() & (df_todos[\"fecha\"].astype(str).str.strip() != \"\")]\n",
        "\n",
        "# Reemplazar \"Estrat&eacute;gico\" por \"Estratégico\" en la columna 'clasificacion'\n",
        "if \"clasificacion\" in df_todos.columns:\n",
        "    df_todos[\"clasificacion\"] = df_todos[\"clasificacion\"].replace(\"Estrat&eacute;gico\", \"Estratégico\")\n",
        "\n",
        "# 5️⃣ Guardar el consolidado limpio\n",
        "df_todos.to_excel(\"Consolidado.xlsx\", index=False)\n",
        "\n",
        "print(\"✅ Consolidado limpio guardado en:\", os.path.join(os.getcwd(), \"Consolidado.xlsx\"))"
      ],
      "metadata": {
        "id": "hvfS6pEKLIya",
        "outputId": "81cbd676-44a7-4c35-e686-765dffaac30a",
        "colab": {
          "base_uri": "https://localhost:8080/"
        }
      },
      "execution_count": 5,
      "outputs": [
        {
          "output_type": "stream",
          "name": "stdout",
          "text": [
            "✅ Consolidado limpio guardado en: /content/Desempeno_Institucional/Data/Consolidado.xlsx\n"
          ]
        }
      ]
    }
  ]
}